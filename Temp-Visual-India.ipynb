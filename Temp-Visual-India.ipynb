{
 "cells": [
  {
   "cell_type": "markdown",
   "metadata": {},
   "source": [
    "# Visualizing Temperature Change of India (1901-2015)\n",
    "\n",
    "### This work is inspired by blog post from dataquest.io (link: https://www.dataquest.io/blog/climate-temperature-spirals-python/)\n",
    "\n",
    "### Data is collected from data.gov.in (link: https://data.gov.in/resources/monthly-seasonal-and-annual-mean-temperature-india-1901-2016)\n"
   ]
  },
  {
   "cell_type": "code",
   "execution_count": null,
   "metadata": {},
   "outputs": [],
   "source": [
    "import json\n",
    "import pandas as pd\n",
    "import matplotlib.pyplot as plt\n",
    "import numpy as np"
   ]
  },
  {
   "cell_type": "code",
   "execution_count": 183,
   "metadata": {},
   "outputs": [],
   "source": [
    "# Reading JSON File\n",
    "\n",
    "with open('temp_india_1901_2015.json','r') as f:\n",
    "    data = json.load(f)"
   ]
  },
  {
   "cell_type": "code",
   "execution_count": 184,
   "metadata": {},
   "outputs": [
    {
     "name": "stdout",
     "output_type": "stream",
     "text": [
      "{'id': 'a', 'label': 'YEAR', 'type': 'string'}\n",
      "{'id': 'b', 'label': 'JAN', 'type': 'string'}\n",
      "{'id': 'c', 'label': 'FEB', 'type': 'string'}\n",
      "{'id': 'd', 'label': 'MAR', 'type': 'string'}\n",
      "{'id': 'e', 'label': 'APR', 'type': 'string'}\n",
      "{'id': 'f', 'label': 'MAY', 'type': 'string'}\n",
      "{'id': 'g', 'label': 'JUN', 'type': 'string'}\n",
      "{'id': 'h', 'label': 'JUL', 'type': 'string'}\n",
      "{'id': 'i', 'label': 'AUG', 'type': 'string'}\n",
      "{'id': 'j', 'label': 'SEP', 'type': 'string'}\n",
      "{'id': 'k', 'label': 'OCT', 'type': 'string'}\n",
      "{'id': 'l', 'label': 'NOV', 'type': 'string'}\n",
      "{'id': 'm', 'label': 'DEC', 'type': 'string'}\n",
      "{'id': 'n', 'label': 'ANNUAL', 'type': 'string'}\n",
      "{'id': 'o', 'label': 'JAN-FEB', 'type': 'string'}\n",
      "{'id': 'p', 'label': 'MAR-MAY', 'type': 'string'}\n",
      "{'id': 'q', 'label': 'JUN-SEP', 'type': 'string'}\n",
      "{'id': 'r', 'label': 'OCT-DEC', 'type': 'string'}\n"
     ]
    }
   ],
   "source": [
    "# checking field\n",
    "for i in data['fields']:\n",
    "    print (i)"
   ]
  },
  {
   "cell_type": "code",
   "execution_count": null,
   "metadata": {},
   "outputs": [],
   "source": [
    "# checking data\n",
    "for i in data['data'][:5]:\n",
    "    print (i)"
   ]
  },
  {
   "cell_type": "code",
   "execution_count": null,
   "metadata": {},
   "outputs": [],
   "source": [
    "# converting data to usable form\n",
    "data_dict = {}\n",
    "\n",
    "for i in data['data']:\n",
    "    # Adding Year to dict\n",
    "    data_dict[i[0]] = {}\n",
    "    # Adding 12 Month Data\n",
    "    for j in range(12):\n",
    "        data_dict[i[0]][j] = i[j+1]"
   ]
  },
  {
   "cell_type": "code",
   "execution_count": null,
   "metadata": {},
   "outputs": [],
   "source": [
    "df = pd.DataFrame.from_dict(data_dict)"
   ]
  },
  {
   "cell_type": "code",
   "execution_count": null,
   "metadata": {},
   "outputs": [],
   "source": [
    "df"
   ]
  },
  {
   "cell_type": "code",
   "execution_count": null,
   "metadata": {},
   "outputs": [],
   "source": [
    "df['1901']"
   ]
  },
  {
   "cell_type": "code",
   "execution_count": null,
   "metadata": {},
   "outputs": [],
   "source": [
    "fig = plt.figure(figsize=(10,10))\n",
    "ax1 = plt.subplot(111, projection='polar')\n",
    "\n",
    "# I am to lazy to change color scheme and  orginial color scheme used in blogpost is also nice. \n",
    "# SO, I used it without change. \n",
    "# setting up colors\n",
    "fig.set_facecolor(\"#323331\")\n",
    "ax1.set_axis_bgcolor('#000100')\n",
    "\n",
    "# removing labels\n",
    "ax1.axes.get_yaxis().set_ticklabels([])\n",
    "ax1.axes.get_xaxis().set_ticklabels([])\n",
    "\n",
    "\n",
    "# giving title\n",
    "ax1.set_title(\"Mean Temperature Change in India (1901-2015)\", color='white', fontdict={'fontsize': 30})\n",
    "ax1.text(0,0,\"1901\", color='white', size=30, ha='center')\n",
    "\n",
    "\n",
    "# ploting yearly data one-by-one\n",
    "for idx,i in enumerate(df.columns):\n",
    "    r = list(df[i])\n",
    "    ax1.grid(False)\n",
    "    ax1.plot(theta, r, c=plt.cm.viridis(idx))\n",
    "    theta = np.linspace(0,2*np.pi,12)\n",
    "    ax1.plot(theta, r)\n",
    "\n",
    "    full_circle_thetas = np.linspace(0, 2*np.pi, 1000)\n",
    "\n",
    "# reducing down y limit\n",
    "ax1.set_ylim(12.0, 35.0)\n",
    "    \n",
    "blue_line_one_radii = [15.0]*1000\n",
    "red_line_one_radii = [20.0]*1000\n",
    "red_line_two_radii = [25.0]*1000\n",
    "\n",
    "# drawing temperature line\n",
    "ax1.plot(full_circle_thetas, blue_line_one_radii, c='blue',linewidth=3)\n",
    "ax1.plot(full_circle_thetas, orange_line_one_radii, c='yellow',linewidth=3)\n",
    "ax1.plot(full_circle_thetas, red_line_one_radii, c='orange',linewidth=3)\n",
    "ax1.plot(full_circle_thetas, red_line_two_radii, c = 'red' , linewidth=3)\n",
    "\n",
    "\n",
    "ax1.text(np.pi/2, 15.0, \"15.0 C\", color=\"blue\", ha='center', fontdict={'fontsize': 20})\n",
    "ax1.text(np.pi/2, 20.0, \"20.0 C\", color=\"yellow\", ha='center', fontdict={'fontsize': 20})\n",
    "ax1.text(np.pi/2, 25.0, \"25.0 C\", color=\"orange\", ha='center', fontdict={'fontsize': 20})\n",
    "ax1.text(np.pi/2, 30.0, \"30.0 C\", color=\"red\", ha='center', fontdict={'fontsize': 20})\n",
    "\n",
    "ax1.plot()\n"
   ]
  },
  {
   "cell_type": "code",
   "execution_count": null,
   "metadata": {},
   "outputs": [],
   "source": [
    "\n",
    "# this code is used to create gif\n",
    "import sys\n",
    "from matplotlib.animation import FuncAnimation\n",
    "\n",
    "fig = plt.figure(figsize=(8,8))\n",
    "ax1 = plt.subplot(111, projection='polar')\n",
    "\n",
    "ax1.axes.get_yaxis().set_ticklabels([])\n",
    "ax1.axes.get_xaxis().set_ticklabels([])\n",
    "\n",
    "fig.set_facecolor(\"#323331\")\n",
    "ax1.set_axis_bgcolor('#000100')\n",
    "\n",
    "ax1.set_title(\"Mean Temperature Change in India (1901-2015)\", color='white', fontdict={'fontsize': 20})\n",
    "ax1.text(0,0,\"1901\", color='white', size=30, ha='center')\n",
    "\n",
    "ax1.set_ylim(12.0, 35.0)\n",
    "\n",
    "\n",
    "blue_line_one_radii = [15.0]*1000\n",
    "orange_line_one_radii = [20.0]*1000\n",
    "red_line_one_radii = [25.0]*1000\n",
    "red_line_two_radii = [30.0] * 1000\n",
    "\n",
    "\n",
    "ax1.plot(full_circle_thetas, blue_line_one_radii, c='blue',linewidth=3)\n",
    "ax1.plot(full_circle_thetas, orange_line_one_radii, c='yellow',linewidth=3)\n",
    "ax1.plot(full_circle_thetas, red_line_one_radii, c='orange',linewidth=3)\n",
    "ax1.plot(full_circle_thetas, red_line_two_radii, c = 'red' , linewidth=3)\n",
    "\n",
    "\n",
    "ax1.text(np.pi/2, 15.0, \"15.0 C\", color=\"blue\", ha='center', fontdict={'fontsize': 20})\n",
    "ax1.text(np.pi/2, 20.0, \"20.0 C\", color=\"yellow\", ha='center', fontdict={'fontsize': 20})\n",
    "ax1.text(np.pi/2, 25.0, \"25.0 C\", color=\"orange\", ha='center', fontdict={'fontsize': 20})\n",
    "ax1.text(np.pi/2, 30.0, \"30.0 C\", color=\"red\", ha='center', fontdict={'fontsize': 20})\n",
    "\n",
    "\n",
    "year_text = ax1.text(0.5, 0.46,\"\", color=\"white\", ha='center',  transform=ax1.transAxes,fontdict={'fontsize': 17})\n",
    "\n",
    "def init():    \n",
    "    year_text.set_text('')\n",
    "    return year_text\n",
    "\n",
    "def update(i):\n",
    "    r = list(df[df.columns[i]])\n",
    "    ax1.grid(False)\n",
    "    theta = np.linspace(0,2*np.pi,12)\n",
    "    print (df.columns[i])\n",
    "    year_text.set_text(str(df.columns[i]))\n",
    "    ax1.plot(theta, r)\n",
    "    return year_text,\n",
    "\n",
    "anim = FuncAnimation(fig, update, init_func=init,frames=len(df.columns), interval=150,blit=False)\n",
    "# anim.save()\n",
    "anim.save('India_Mean_Temp_change.gif', dpi=200, writer='imagemagick', savefig_kwargs={'facecolor': '#323331'})"
   ]
  }
 ],
 "metadata": {
  "kernelspec": {
   "display_name": "Python 3",
   "language": "python",
   "name": "python3"
  },
  "language_info": {
   "codemirror_mode": {
    "name": "ipython",
    "version": 3
   },
   "file_extension": ".py",
   "mimetype": "text/x-python",
   "name": "python",
   "nbconvert_exporter": "python",
   "pygments_lexer": "ipython3",
   "version": "3.6.2"
  }
 },
 "nbformat": 4,
 "nbformat_minor": 2
}
